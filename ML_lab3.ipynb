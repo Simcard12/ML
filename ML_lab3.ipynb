{
  "cells": [
    {
      "cell_type": "code",
      "execution_count": 1,
      "metadata": {
        "id": "OQMVbiBQPxEG"
      },
      "outputs": [],
      "source": [
        "import numpy as np\n",
        "import pandas as pd\n",
        "\n"
      ]
    },
    {
      "cell_type": "code",
      "execution_count": 2,
      "metadata": {
        "id": "oXWotjWLQmm1"
      },
      "outputs": [],
      "source": [
        "from sklearn.datasets import load_digits\n",
        "digit=load_digits()"
      ]
    },
    {
      "cell_type": "code",
      "execution_count": 3,
      "metadata": {
        "id": "1ptXZIKARLRl"
      },
      "outputs": [],
      "source": [
        "df = pd.DataFrame(digit.data)\n",
        "df.head()\n",
        "Y=digit.target\n"
      ]
    },
    {
      "cell_type": "code",
      "execution_count": 4,
      "metadata": {
        "id": "VIg7jHSMT0xO"
      },
      "outputs": [],
      "source": [
        "X=digit.data\n",
        "Y=digit.target"
      ]
    },
    {
      "cell_type": "code",
      "execution_count": 7,
      "metadata": {
        "colab": {
          "base_uri": "https://localhost:8080/"
        },
        "id": "mmPLoZezTxnv",
        "outputId": "fe084eb3-9b3a-4501-b4c7-f365dad46001"
      },
      "outputs": [
        {
          "data": {
            "text/plain": [
              "array([[ 0.        , -0.33501649, -0.04308102, ..., -1.14664746,\n",
              "        -0.5056698 , -0.19600752],\n",
              "       [ 0.        , -0.33501649, -1.09493684, ...,  0.54856067,\n",
              "        -0.5056698 , -0.19600752],\n",
              "       [ 0.        , -0.33501649, -1.09493684, ...,  1.56568555,\n",
              "         1.6951369 , -0.19600752],\n",
              "       ...,\n",
              "       [ 0.        , -0.33501649, -0.88456568, ..., -0.12952258,\n",
              "        -0.5056698 , -0.19600752],\n",
              "       [ 0.        , -0.33501649, -0.67419451, ...,  0.8876023 ,\n",
              "        -0.5056698 , -0.19600752],\n",
              "       [ 0.        , -0.33501649,  1.00877481, ...,  0.8876023 ,\n",
              "        -0.26113572, -0.19600752]])"
            ]
          },
          "execution_count": 7,
          "metadata": {},
          "output_type": "execute_result"
        }
      ],
      "source": [
        "from sklearn.preprocessing import StandardScaler\n",
        "X_scaled = StandardScaler().fit_transform(X)\n",
        "X_scaled"
      ]
    },
    {
      "cell_type": "code",
      "execution_count": 8,
      "metadata": {
        "colab": {
          "base_uri": "https://localhost:8080/"
        },
        "id": "oIThSWr6T6Xt",
        "outputId": "bdcc1d9a-1a30-4f1f-c436-be411e79ea67"
      },
      "outputs": [
        {
          "name": "stdout",
          "output_type": "stream",
          "text": [
            "[[ 0.          0.          0.         ...  0.          0.\n",
            "   0.        ]\n",
            " [ 0.          1.00055679  0.55692803 ... -0.02988686  0.02656195\n",
            "  -0.04391324]\n",
            " [ 0.          0.55692803  1.00055679 ... -0.04120565  0.07263924\n",
            "   0.08256908]\n",
            " ...\n",
            " [ 0.         -0.02988686 -0.04120565 ...  1.00055679  0.64868875\n",
            "   0.26213704]\n",
            " [ 0.          0.02656195  0.07263924 ...  0.64868875  1.00055679\n",
            "   0.62077355]\n",
            " [ 0.         -0.04391324  0.08256908 ...  0.26213704  0.62077355\n",
            "   1.00055679]]\n"
          ]
        }
      ],
      "source": [
        "features = X_scaled.T\n",
        "cov_matrix = np.cov(features)\n",
        "print(cov_matrix)"
      ]
    },
    {
      "cell_type": "code",
      "execution_count": 9,
      "metadata": {
        "colab": {
          "base_uri": "https://localhost:8080/"
        },
        "id": "yv57t5ZSUAJN",
        "outputId": "26df27fa-6c80-4cc7-d4c1-bd243a9d56fb"
      },
      "outputs": [
        {
          "data": {
            "text/plain": [
              "array([7.34477606, 5.83549054, 5.15396118, 3.96623597, 2.9663452 ])"
            ]
          },
          "execution_count": 9,
          "metadata": {},
          "output_type": "execute_result"
        }
      ],
      "source": [
        "values, vectors = np.linalg.eig(cov_matrix)\n",
        "values[:5]"
      ]
    },
    {
      "cell_type": "code",
      "execution_count": 10,
      "metadata": {
        "colab": {
          "base_uri": "https://localhost:8080/"
        },
        "id": "iSTOstASUOpt",
        "outputId": "683bb3b5-842b-45fe-f729-87f8f6568498"
      },
      "outputs": [
        {
          "name": "stdout",
          "output_type": "stream",
          "text": [
            "[0.120339160977349, 0.09561054403097878, 0.08444414892624563, 0.06498407907524166, 0.04860154875966402, 0.04214119869271942, 0.03942082803567399, 0.03389380924638325, 0.02998221011625231, 0.029320025512522056, 0.02781805463550325, 0.025770550925819986, 0.02275303315764248, 0.02227179739514352, 0.021652294318492426, 0.01914166606442125, 0.017755470851681932, 0.016380692742844205, 0.01596460168862342, 0.014891911870878188, 0.013479695658179372, 0.012719313702347596, 0.01165837350591949, 0.01057646598536322, 0.009753159471981136, 0.009445589897319978, 0.008630138269707228, 0.008366428536685181, 0.007976932484112454, 0.007464713709260608, 0.007255821513702738, 0.006919112454811828, 0.00653908535572617, 0.006407925738459878, 0.0059138411172234215, 0.0057116240522352485, 0.005236368034166337, 0.0008253509448180276, 0.004818075864451423, 0.004537192598584508, 0.0010369573015571814, 0.004231627532327807, 0.004060530699790384, 0.003970848082758273, 0.0012510074249730112, 0.0013511841133708542, 0.0014776269410608739, 0.0016123606225672896, 0.0016794638749558406, 0.0018331849919718225, 0.0019551242601981854, 0.002035976345253766, 0.0021825685771200837, 0.0023448300553563536, 0.0035649330314261756, 0.0025917494088146444, 0.002764892635235468, 0.0034078718147030063, 0.0028857529410893424, 0.0032783533528795406, 0.0031103200734535676, 0.0, 0.0, 0.0]\n"
          ]
        }
      ],
      "source": [
        "explained_variances = []\n",
        "for i in range(len(values)):\n",
        "  explained_variances.append(values[i] / np.sum(values))\n",
        "print(explained_variances)"
      ]
    },
    {
      "cell_type": "code",
      "execution_count": 11,
      "metadata": {
        "colab": {
          "base_uri": "https://localhost:8080/",
          "height": 388
        },
        "id": "tELkoKi5UYzk",
        "outputId": "238cc586-d48a-4afd-dee6-93ff307538c5"
      },
      "outputs": [
        {
          "data": {
            "image/png": "[encoded data removed]",
            "text/plain": [
              "<Figure size 600x400 with 1 Axes>"
            ]
          },
          "metadata": {},
          "output_type": "display_data"
        }
      ],
      "source": [
        "import matplotlib.pyplot as plt\n",
        "plt.figure(figsize=(6, 4))\n",
        "plt.bar(range(len(explained_variances)), explained_variances,\n",
        "        alpha=0.5, align='center', label='individual explained variance')\n",
        "plt.ylabel('Explained variance ratio')\n",
        "plt.xlabel('Principal components')\n",
        "plt.show()"
      ]
    },
    {
      "cell_type": "code",
      "execution_count": 12,
      "metadata": {
        "colab": {
          "base_uri": "https://localhost:8080/",
          "height": 206
        },
        "id": "iXOf8qCWU9h9",
        "outputId": "27145395-399f-4716-fa46-498312eb0412"
      },
      "outputs": [
        {
          "data": {
            "application/vnd.google.colaboratory.intrinsic+json": {
              "summary": "{\n  \"name\": \"res\",\n  \"rows\": 1797,\n  \"fields\": [\n    {\n      \"column\": \"PC1\",\n      \"properties\": {\n        \"dtype\": \"number\",\n        \"std\": 2.7101247319701636,\n        \"min\": -9.982559630211522,\n        \"max\": 6.9972532957785845,\n        \"num_unique_values\": 1797,\n        \"samples\": [\n          -1.2578183919550314,\n          1.7032787378492573,\n          3.6888256472641903\n        ],\n        \"semantic_type\": \"\",\n        \"description\": \"\"\n      }\n    },\n    {\n      \"column\": \"PC2\",\n      \"properties\": {\n        \"dtype\": \"number\",\n        \"std\": 2.415676000073173,\n        \"min\": -9.861031422785281,\n        \"max\": 6.67530851581357,\n        \"num_unique_values\": 1797,\n        \"samples\": [\n          3.9431691054980487,\n          -0.739604720858708,\n          0.029337135753298937\n        ],\n        \"semantic_type\": \"\",\n        \"description\": \"\"\n      }\n    },\n    {\n      \"column\": \"Y\",\n      \"properties\": {\n        \"dtype\": \"number\",\n        \"std\": 2,\n        \"min\": 0,\n        \"max\": 9,\n        \"num_unique_values\": 10,\n        \"samples\": [\n          8,\n          1,\n          5\n        ],\n        \"semantic_type\": \"\",\n        \"description\": \"\"\n      }\n    }\n  ]\n}",
              "type": "dataframe",
              "variable_name": "res"
            },
            "text/html": [
              "\n",
              "  <div id=\"df-db07a9cb-92c2-4fb3-a156-9c649708fd87\" class=\"colab-df-container\">\n",
              "    <div>\n",
              "<style scoped>\n",
              "    .dataframe tbody tr th:only-of-type {\n",
              "        vertical-align: middle;\n",
              "    }\n",
              "\n",
              "    .dataframe tbody tr th {\n",
              "        vertical-align: top;\n",
              "    }\n",
              "\n",
              "    .dataframe thead th {\n",
              "        text-align: right;\n",
              "    }\n",
              "</style>\n",
              "<table border=\"1\" class=\"dataframe\">\n",
              "  <thead>\n",
              "    <tr style=\"text-align: right;\">\n",
              "      <th></th>\n",
              "      <th>PC1</th>\n",
              "      <th>PC2</th>\n",
              "      <th>Y</th>\n",
              "    </tr>\n",
              "  </thead>\n",
              "  <tbody>\n",
              "    <tr>\n",
              "      <th>0</th>\n",
              "      <td>-1.914214</td>\n",
              "      <td>0.954502</td>\n",
              "      <td>0</td>\n",
              "    </tr>\n",
              "    <tr>\n",
              "      <th>1</th>\n",
              "      <td>-0.588980</td>\n",
              "      <td>-0.924636</td>\n",
              "      <td>1</td>\n",
              "    </tr>\n",
              "    <tr>\n",
              "      <th>2</th>\n",
              "      <td>-1.302039</td>\n",
              "      <td>0.317189</td>\n",
              "      <td>2</td>\n",
              "    </tr>\n",
              "    <tr>\n",
              "      <th>3</th>\n",
              "      <td>3.020770</td>\n",
              "      <td>0.868772</td>\n",
              "      <td>3</td>\n",
              "    </tr>\n",
              "    <tr>\n",
              "      <th>4</th>\n",
              "      <td>-4.528949</td>\n",
              "      <td>1.093480</td>\n",
              "      <td>4</td>\n",
              "    </tr>\n",
              "  </tbody>\n",
              "</table>\n",
              "</div>\n",
              "    <div class=\"colab-df-buttons\">\n",
              "\n",
              "  <div class=\"colab-df-container\">\n",
              "    <button class=\"colab-df-convert\" onclick=\"convertToInteractive('df-db07a9cb-92c2-4fb3-a156-9c649708fd87')\"\n",
              "            title=\"Convert this dataframe to an interactive table.\"\n",
              "            style=\"display:none;\">\n",
              "\n",
              "  <svg xmlns=\"http://www.w3.org/2000/svg\" height=\"24px\" viewBox=\"0 -960 960 960\">\n",
              "    <path d=\"M120-120v-720h720v720H120Zm60-500h600v-160H180v160Zm220 220h160v-160H400v160Zm0 220h160v-160H400v160ZM180-400h160v-160H180v160Zm440 0h160v-160H620v160ZM180-180h160v-160H180v160Zm440 0h160v-160H620v160Z\"/>\n",
              "  </svg>\n",
              "    </button>\n",
              "\n",
              "  <style>\n",
              "    .colab-df-container {\n",
              "      display:flex;\n",
              "      gap: 12px;\n",
              "    }\n",
              "\n",
              "    .colab-df-convert {\n",
              "      background-color: #E8F0FE;\n",
              "      border: none;\n",
              "      border-radius: 50%;\n",
              "      cursor: pointer;\n",
              "      display: none;\n",
              "      fill: #1967D2;\n",
              "      height: 32px;\n",
              "      padding: 0 0 0 0;\n",
              "      width: 32px;\n",
              "    }\n",
              "\n",
              "    .colab-df-convert:hover {\n",
              "      background-color: #E2EBFA;\n",
              "      box-shadow: 0px 1px 2px rgba(60, 64, 67, 0.3), 0px 1px 3px 1px rgba(60, 64, 67, 0.15);\n",
              "      fill: #174EA6;\n",
              "    }\n",
              "\n",
              "    .colab-df-buttons div {\n",
              "      margin-bottom: 4px;\n",
              "    }\n",
              "\n",
              "    [theme=dark] .colab-df-convert {\n",
              "      background-color: #3B4455;\n",
              "      fill: #D2E3FC;\n",
              "    }\n",
              "\n",
              "    [theme=dark] .colab-df-convert:hover {\n",
              "      background-color: #434B5C;\n",
              "      box-shadow: 0px 1px 3px 1px rgba(0, 0, 0, 0.15);\n",
              "      filter: drop-shadow(0px 1px 2px rgba(0, 0, 0, 0.3));\n",
              "      fill: #FFFFFF;\n",
              "    }\n",
              "  </style>\n",
              "\n",
              "    <script>\n",
              "      const buttonEl =\n",
              "        document.querySelector('#df-db07a9cb-92c2-4fb3-a156-9c649708fd87 button.colab-df-convert');\n",
              "      buttonEl.style.display =\n",
              "        google.colab.kernel.accessAllowed ? 'block' : 'none';\n",
              "\n",
              "      async function convertToInteractive(key) {\n",
              "        const element = document.querySelector('#df-db07a9cb-92c2-4fb3-a156-9c649708fd87');\n",
              "        const dataTable =\n",
              "          await google.colab.kernel.invokeFunction('convertToInteractive',\n",
              "                                                    [key], {});\n",
              "        if (!dataTable) return;\n",
              "\n",
              "        const docLinkHtml = 'Like what you see? Visit the ' +\n",
              "          '<a target=\"_blank\" href=https://colab.research.google.com/notebooks/data_table.ipynb>data table notebook</a>'\n",
              "          + ' to learn more about interactive tables.';\n",
              "        element.innerHTML = '';\n",
              "        dataTable['output_type'] = 'display_data';\n",
              "        await google.colab.output.renderOutput(dataTable, element);\n",
              "        const docLink = document.createElement('div');\n",
              "        docLink.innerHTML = docLinkHtml;\n",
              "        element.appendChild(docLink);\n",
              "      }\n",
              "    </script>\n",
              "  </div>\n",
              "\n",
              "\n",
              "<div id=\"df-6d45c0e6-0107-4d08-8c33-5af002da51ee\">\n",
              "  <button class=\"colab-df-quickchart\" onclick=\"quickchart('df-6d45c0e6-0107-4d08-8c33-5af002da51ee')\"\n",
              "            title=\"Suggest charts\"\n",
              "            style=\"display:none;\">\n",
              "\n",
              "<svg xmlns=\"http://www.w3.org/2000/svg\" height=\"24px\"viewBox=\"0 0 24 24\"\n",
              "     width=\"24px\">\n",
              "    <g>\n",
              "        <path d=\"M19 3H5c-1.1 0-2 .9-2 2v14c0 1.1.9 2 2 2h14c1.1 0 2-.9 2-2V5c0-1.1-.9-2-2-2zM9 17H7v-7h2v7zm4 0h-2V7h2v10zm4 0h-2v-4h2v4z\"/>\n",
              "    </g>\n",
              "</svg>\n",
              "  </button>\n",
              "\n",
              "<style>\n",
              "  .colab-df-quickchart {\n",
              "      --bg-color: #E8F0FE;\n",
              "      --fill-color: #1967D2;\n",
              "      --hover-bg-color: #E2EBFA;\n",
              "      --hover-fill-color: #174EA6;\n",
              "      --disabled-fill-color: #AAA;\n",
              "      --disabled-bg-color: #DDD;\n",
              "  }\n",
              "\n",
              "  [theme=dark] .colab-df-quickchart {\n",
              "      --bg-color: #3B4455;\n",
              "      --fill-color: #D2E3FC;\n",
              "      --hover-bg-color: #434B5C;\n",
              "      --hover-fill-color: #FFFFFF;\n",
              "      --disabled-bg-color: #3B4455;\n",
              "      --disabled-fill-color: #666;\n",
              "  }\n",
              "\n",
              "  .colab-df-quickchart {\n",
              "    background-color: var(--bg-color);\n",
              "    border: none;\n",
              "    border-radius: 50%;\n",
              "    cursor: pointer;\n",
              "    display: none;\n",
              "    fill: var(--fill-color);\n",
              "    height: 32px;\n",
              "    padding: 0;\n",
              "    width: 32px;\n",
              "  }\n",
              "\n",
              "  .colab-df-quickchart:hover {\n",
              "    background-color: var(--hover-bg-color);\n",
              "    box-shadow: 0 1px 2px rgba(60, 64, 67, 0.3), 0 1px 3px 1px rgba(60, 64, 67, 0.15);\n",
              "    fill: var(--button-hover-fill-color);\n",
              "  }\n",
              "\n",
              "  .colab-df-quickchart-complete:disabled,\n",
              "  .colab-df-quickchart-complete:disabled:hover {\n",
              "    background-color: var(--disabled-bg-color);\n",
              "    fill: var(--disabled-fill-color);\n",
              "    box-shadow: none;\n",
              "  }\n",
              "\n",
              "  .colab-df-spinner {\n",
              "    border: 2px solid var(--fill-color);\n",
              "    border-color: transparent;\n",
              "    border-bottom-color: var(--fill-color);\n",
              "    animation:\n",
              "      spin 1s steps(1) infinite;\n",
              "  }\n",
              "\n",
              "  @keyframes spin {\n",
              "    0% {\n",
              "      border-color: transparent;\n",
              "      border-bottom-color: var(--fill-color);\n",
              "      border-left-color: var(--fill-color);\n",
              "    }\n",
              "    20% {\n",
              "      border-color: transparent;\n",
              "      border-left-color: var(--fill-color);\n",
              "      border-top-color: var(--fill-color);\n",
              "    }\n",
              "    30% {\n",
              "      border-color: transparent;\n",
              "      border-left-color: var(--fill-color);\n",
              "      border-top-color: var(--fill-color);\n",
              "      border-right-color: var(--fill-color);\n",
              "    }\n",
              "    40% {\n",
              "      border-color: transparent;\n",
              "      border-right-color: var(--fill-color);\n",
              "      border-top-color: var(--fill-color);\n",
              "    }\n",
              "    60% {\n",
              "      border-color: transparent;\n",
              "      border-right-color: var(--fill-color);\n",
              "    }\n",
              "    80% {\n",
              "      border-color: transparent;\n",
              "      border-right-color: var(--fill-color);\n",
              "      border-bottom-color: var(--fill-color);\n",
              "    }\n",
              "    90% {\n",
              "      border-color: transparent;\n",
              "      border-bottom-color: var(--fill-color);\n",
              "    }\n",
              "  }\n",
              "</style>\n",
              "\n",
              "  <script>\n",
              "    async function quickchart(key) {\n",
              "      const quickchartButtonEl =\n",
              "        document.querySelector('#' + key + ' button');\n",
              "      quickchartButtonEl.disabled = true;  // To prevent multiple clicks.\n",
              "      quickchartButtonEl.classList.add('colab-df-spinner');\n",
              "      try {\n",
              "        const charts = await google.colab.kernel.invokeFunction(\n",
              "            'suggestCharts', [key], {});\n",
              "      } catch (error) {\n",
              "        console.error('Error during call to suggestCharts:', error);\n",
              "      }\n",
              "      quickchartButtonEl.classList.remove('colab-df-spinner');\n",
              "      quickchartButtonEl.classList.add('colab-df-quickchart-complete');\n",
              "    }\n",
              "    (() => {\n",
              "      let quickchartButtonEl =\n",
              "        document.querySelector('#df-6d45c0e6-0107-4d08-8c33-5af002da51ee button');\n",
              "      quickchartButtonEl.style.display =\n",
              "        google.colab.kernel.accessAllowed ? 'block' : 'none';\n",
              "    })();\n",
              "  </script>\n",
              "</div>\n",
              "\n",
              "    </div>\n",
              "  </div>\n"
            ],
            "text/plain": [
              "        PC1       PC2  Y\n",
              "0 -1.914214  0.954502  0\n",
              "1 -0.588980 -0.924636  1\n",
              "2 -1.302039  0.317189  2\n",
              "3  3.020770  0.868772  3\n",
              "4 -4.528949  1.093480  4"
            ]
          },
          "execution_count": 12,
          "metadata": {},
          "output_type": "execute_result"
        }
      ],
      "source": [
        "projected_1 = X_scaled.dot(vectors.T[0])\n",
        "projected_2 = X_scaled.dot(vectors.T[1])\n",
        "res = pd.DataFrame(projected_1, columns=['PC1'])\n",
        "res['PC2'] = projected_2\n",
        "res['Y'] = Y\n",
        "res.head()"
      ]
    },
    {
      "cell_type": "code",
      "execution_count": 13,
      "metadata": {
        "colab": {
          "base_uri": "https://localhost:8080/",
          "height": 836
        },
        "id": "_pyrKceCVEWt",
        "outputId": "1eb6dc95-a263-40db-bf0f-9a2451e78c0b"
      },
      "outputs": [
        {
          "data": {
            "image/png": "[encoded data removed]",
            "text/plain": [
              "<Figure size 1000x1000 with 2 Axes>"
            ]
          },
          "metadata": {},
          "output_type": "display_data"
        }
      ],
      "source": [
        "import seaborn as sns\n",
        "plt.figure(figsize=(10,10))\n",
        "X=res[[\"PC1\",\"PC2\"]]\n",
        "p=sns.heatmap(X.corr(),\n",
        "annot=True,cmap='RdYlGn')"
      ]
    },
    {
      "cell_type": "code",
      "execution_count": 15,
      "metadata": {
        "colab": {
          "base_uri": "https://localhost:8080/",
          "height": 472
        },
        "id": "vO8iUuh2gbcw",
        "outputId": "cf3ad138-e57c-48ac-cf49-793f32bee39d"
      },
      "outputs": [
        {
          "data": {
            "text/plain": [
              "<Axes: xlabel='PC1', ylabel='PC2'>"
            ]
          },
          "execution_count": 15,
          "metadata": {},
          "output_type": "execute_result"
        },
        {
          "data": {
            "image/png": "[encoded data removed]",
            "text/plain": [
              "<Figure size 640x480 with 1 Axes>"
            ]
          },
          "metadata": {},
          "output_type": "display_data"
        }
      ],
      "source": [
        "res.plot(kind=\"scatter\", x=\"PC1\",\n",
        "y=\"PC2\")"
      ]
    },
    {
      "cell_type": "code",
      "execution_count": 14,
      "metadata": {
        "id": "NyaQgX9YVMiV"
      },
      "outputs": [],
      "source": [
        "from sklearn.decomposition import PCA\n",
        "pca = PCA(n_components=2)\n",
        "X_new = pca.fit_transform(X)"
      ]
    },
    {
      "cell_type": "code",
      "execution_count": 18,
      "metadata": {
        "colab": {
          "base_uri": "https://localhost:8080/"
        },
        "id": "NleOxlrEhwcM",
        "outputId": "0fa4e987-ea26-4a4b-d789-a5ed52de80e4"
      },
      "outputs": [
        {
          "name": "stdout",
          "output_type": "stream",
          "text": [
            "[[114.85302699   0.        ]\n",
            " [  0.         102.37451345]]\n",
            "[[-1.91421366  0.95450157]\n",
            " [-0.58898033 -0.9246358 ]\n",
            " [-1.30203906  0.31718883]\n",
            " ...\n",
            " [-1.02259599  0.14791087]\n",
            " [-1.07605522  0.38090625]\n",
            " [ 1.25770233  2.22759088]]\n"
          ]
        }
      ],
      "source": [
        "from scipy.linalg import svd\n",
        "u,s,v= svd(X)\n",
        "sigma=np.diag(s)\n",
        "print(sigma)\n",
        "X_new = np.dot(u[:, :2], sigma[:2, :2])\n",
        "print(X_new)"
      ]
    }
  ],
  "metadata": {
    "colab": {
      "provenance": []
    },
    "kernelspec": {
      "display_name": "Python 3",
      "name": "python3"
    },
    "language_info": {
      "name": "python"
    }
  },
  "nbformat": 4,
  "nbformat_minor": 0
}
