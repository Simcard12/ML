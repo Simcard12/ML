{
  "nbformat": 4,
  "nbformat_minor": 0,
  "metadata": {
    "colab": {
      "provenance": []
    },
    "kernelspec": {
      "name": "python3",
      "display_name": "Python 3"
    },
    "language_info": {
      "name": "python"
    }
  },
  "cells": [
    {
      "cell_type": "code",
      "execution_count": null,
      "metadata": {
        "colab": {
          "base_uri": "https://localhost:8080/"
        },
        "id": "SWpY8IihM8oO",
        "outputId": "ea695a6d-ad0e-48eb-d12e-003685dd4d31"
      },
      "outputs": [
        {
          "output_type": "stream",
          "name": "stdout",
          "text": [
            "hello world\n"
          ]
        }
      ],
      "source": [
        "print(\"hello world\")"
      ]
    },
    {
      "cell_type": "code",
      "source": [
        "import numpy as np\n",
        "\n",
        "arr = np.array([1, 2, 3, 4, 5])\n",
        "\n",
        "rev_arr = arr[::-1]\n",
        "\n",
        "print(\"Original array:\", arr)\n",
        "print(\"Reversed array:\", rev_arr)\n"
      ],
      "metadata": {
        "colab": {
          "base_uri": "https://localhost:8080/"
        },
        "id": "GKMe816bNfM0",
        "outputId": "7552cf13-332e-4f40-b30b-e13ad7a45bfe"
      },
      "execution_count": null,
      "outputs": [
        {
          "output_type": "stream",
          "name": "stdout",
          "text": [
            "Original array: [1 2 3 4 5]\n",
            "Reversed array: [5 4 3 2 1]\n"
          ]
        }
      ]
    },
    {
      "cell_type": "code",
      "source": [
        "import numpy as np\n",
        "\n",
        "array1 = np.array([[1,2,3],[2,4,5],[1,2,3]])\n",
        "\n",
        "f_arr = arr.flatten()\n",
        "\n",
        "print(\"Original array:\", arr)\n",
        "print(\"Flattened array:\", f_arr)"
      ],
      "metadata": {
        "colab": {
          "base_uri": "https://localhost:8080/"
        },
        "id": "tfl8S8a5ONxU",
        "outputId": "f78eb301-9a21-4cd0-b655-f8046b78faa2"
      },
      "execution_count": null,
      "outputs": [
        {
          "output_type": "stream",
          "name": "stdout",
          "text": [
            "Original array: [1 2 3 4 5]\n",
            "Flattened array: [1 2 3 4 5]\n"
          ]
        }
      ]
    },
    {
      "cell_type": "code",
      "source": [
        "import numpy as np\n",
        "\n",
        "array2 = np.array([[1,2,3],[2,4,5],[1,2,3]])\n",
        "\n",
        "r_arr = arr.ravel()\n",
        "\n",
        "print(\"Original array:\",arr)\n",
        "print(\"Flattened array:\",r_arr)"
      ],
      "metadata": {
        "colab": {
          "base_uri": "https://localhost:8080/"
        },
        "id": "ax6o08bGPI4a",
        "outputId": "3031d644-b12a-44cd-e171-9a021aa98f2f"
      },
      "execution_count": null,
      "outputs": [
        {
          "output_type": "stream",
          "name": "stdout",
          "text": [
            "Original array: [1 2 3 4 5]\n",
            "Flattened array: [1 2 3 4 5]\n"
          ]
        }
      ]
    },
    {
      "cell_type": "code",
      "source": [
        "import numpy as np\n",
        "\n",
        "array1=np.array([[1,2],[3,4]])\n",
        "array2=np.array([[1,2],[3,4]])\n",
        "\n",
        "comparision = array1 == array2\n",
        "\n",
        "print(\"compare the array \\n\",comparision)"
      ],
      "metadata": {
        "colab": {
          "base_uri": "https://localhost:8080/"
        },
        "id": "JwLJqMtyQj8c",
        "outputId": "fabca32f-d368-4007-c480-0ae81c8d1780"
      },
      "execution_count": null,
      "outputs": [
        {
          "output_type": "stream",
          "name": "stdout",
          "text": [
            "compare the array \n",
            " [[ True  True]\n",
            " [ True  True]]\n"
          ]
        }
      ]
    },
    {
      "cell_type": "code",
      "source": [
        "import numpy as np\n",
        "\n",
        "x = np.array([1,2,3,4,5,1,2,1,1,1])\n",
        "\n",
        "\n",
        "for i in arr:\n",
        "  if n==10%i  :\n",
        "    print(n)"
      ],
      "metadata": {
        "colab": {
          "base_uri": "https://localhost:8080/",
          "height": 193
        },
        "collapsed": true,
        "id": "zk_Cw1BfRwTm",
        "outputId": "936e8f7f-5ae8-4928-abcc-e8466742e4b1"
      },
      "execution_count": null,
      "outputs": [
        {
          "output_type": "error",
          "ename": "NameError",
          "evalue": "name 'n' is not defined",
          "traceback": [
            "\u001b[0;31m---------------------------------------------------------------------------\u001b[0m",
            "\u001b[0;31mNameError\u001b[0m                                 Traceback (most recent call last)",
            "\u001b[0;32m<ipython-input-16-095afb9ca0cb>\u001b[0m in \u001b[0;36m<cell line: 6>\u001b[0;34m()\u001b[0m\n\u001b[1;32m      5\u001b[0m \u001b[0;34m\u001b[0m\u001b[0m\n\u001b[1;32m      6\u001b[0m \u001b[0;32mfor\u001b[0m \u001b[0mi\u001b[0m \u001b[0;32min\u001b[0m \u001b[0marr\u001b[0m\u001b[0;34m:\u001b[0m\u001b[0;34m\u001b[0m\u001b[0;34m\u001b[0m\u001b[0m\n\u001b[0;32m----> 7\u001b[0;31m   \u001b[0;32mif\u001b[0m \u001b[0mn\u001b[0m\u001b[0;34m==\u001b[0m\u001b[0;36m10\u001b[0m\u001b[0;34m%\u001b[0m\u001b[0mi\u001b[0m  \u001b[0;34m:\u001b[0m\u001b[0;34m\u001b[0m\u001b[0;34m\u001b[0m\u001b[0m\n\u001b[0m\u001b[1;32m      8\u001b[0m     \u001b[0mprint\u001b[0m\u001b[0;34m(\u001b[0m\u001b[0mn\u001b[0m\u001b[0;34m)\u001b[0m\u001b[0;34m\u001b[0m\u001b[0;34m\u001b[0m\u001b[0m\n",
            "\u001b[0;31mNameError\u001b[0m: name 'n' is not defined"
          ]
        }
      ]
    },
    {
      "cell_type": "code",
      "source": [
        "import numpy as np\n",
        "\n",
        "gfg = np.array([[4, 1, 9], [12, 3, 1], [4, 5, 6]])\n",
        "\n",
        "sum_is = np.sum(gfg)\n",
        "\n",
        "print(\"sum of array\",sum_is)"
      ],
      "metadata": {
        "colab": {
          "base_uri": "https://localhost:8080/"
        },
        "id": "LcUn6HnHV5wU",
        "outputId": "c0663186-50e0-404c-a6f6-ffa8015dfa81"
      },
      "execution_count": null,
      "outputs": [
        {
          "output_type": "stream",
          "name": "stdout",
          "text": [
            "sum of array 45\n"
          ]
        }
      ]
    },
    {
      "cell_type": "code",
      "source": [
        "import numpy as np\n",
        "\n",
        "gfg = np.array([[4, 1, 9], [12, 3, 1], [4, 5, 6]])\n",
        "\n",
        "sum_is = np.sum(gfg,axis=1)\n",
        "\n",
        "print(\"sum of array\",sum_is)"
      ],
      "metadata": {
        "colab": {
          "base_uri": "https://localhost:8080/"
        },
        "id": "lptCMtg_XYqA",
        "outputId": "6a90714a-b970-41dd-effd-1737bbce6b95"
      },
      "execution_count": null,
      "outputs": [
        {
          "output_type": "stream",
          "name": "stdout",
          "text": [
            "sum of array [14 16 15]\n"
          ]
        }
      ]
    },
    {
      "cell_type": "code",
      "source": [
        "import numpy as np\n",
        "\n",
        "gfg = np.array([[4, 1, 9], [12, 3, 1], [4, 5, 6]])\n",
        "\n",
        "sum_is = np.sum(gfg,axis=0)\n",
        "\n",
        "print(\"sum of array\",sum_is)"
      ],
      "metadata": {
        "colab": {
          "base_uri": "https://localhost:8080/"
        },
        "id": "C53BpiKhX6oR",
        "outputId": "e30fcc82-728b-4600-c0cf-5a5275d4e4c6"
      },
      "execution_count": null,
      "outputs": [
        {
          "output_type": "stream",
          "name": "stdout",
          "text": [
            "sum of array [20  9 16]\n"
          ]
        }
      ]
    },
    {
      "cell_type": "code",
      "source": [
        "import numpy as np\n",
        "p = [[1, 2], [2, 3]]\n",
        "q = [[4, 5], [6, 7]]\n",
        "result = np.dot(p, q)\n",
        "print(\"Matrix multiplication result:\\n\", result)\n",
        "cov = np.cov(p, q)\n",
        "print(\"Covariance matrix:\\n\",cov)"
      ],
      "metadata": {
        "colab": {
          "base_uri": "https://localhost:8080/"
        },
        "id": "tSP2-k1LKpaB",
        "outputId": "04c5c026-227d-42ec-9d83-d6667f559c4c"
      },
      "execution_count": null,
      "outputs": [
        {
          "output_type": "stream",
          "name": "stdout",
          "text": [
            "Matrix multiplication result:\n",
            " [[16 19]\n",
            " [26 31]]\n",
            "Covariance matrix:\n",
            " [[0.5 0.5 0.5 0.5]\n",
            " [0.5 0.5 0.5 0.5]\n",
            " [0.5 0.5 0.5 0.5]\n",
            " [0.5 0.5 0.5 0.5]]\n"
          ]
        }
      ]
    },
    {
      "cell_type": "code",
      "source": [
        "import numpy as np\n",
        "p = [[1, 2], [2, 3], [4, 5]]\n",
        "q = [[4, 5, 1], [6, 7, 2]]\n",
        "result = np.dot(p, q)\n",
        "print(\"Matrix multiplication result:\\n\",result)"
      ],
      "metadata": {
        "colab": {
          "base_uri": "https://localhost:8080/"
        },
        "id": "7OOMNjM2K39T",
        "outputId": "ecb4d2e7-6240-44ae-9fb0-14c0f425780b"
      },
      "execution_count": null,
      "outputs": [
        {
          "output_type": "stream",
          "name": "stdout",
          "text": [
            "Matrix multiplication result:\n",
            " [[16 19  5]\n",
            " [26 31  8]\n",
            " [46 55 14]]\n"
          ]
        }
      ]
    },
    {
      "cell_type": "code",
      "source": [
        "import numpy as np\n",
        "\n",
        "n_array = np.array([[55, 25, 15],\n",
        "                    [30, 44, 2],\n",
        "                    [11, 45, 77]])\n",
        "\n",
        "sum_diagonal = np.trace(n_array)\n",
        "\n",
        "eigenvalues = np.linalg.eigvals(n_array)\n",
        "\n",
        "eigenvalues, eigenvectors = np.linalg.eig(n_array)\n",
        "\n",
        "inverse_matrix = np.linalg.inv(n_array)\n",
        "\n",
        "determinant = np.linalg.det(n_array)\n",
        "\n",
        "print(\"Sum of diagonal elements:\", sum_diagonal)\n",
        "print(\"Eigenvalues of matrix:\", eigenvalues)\n",
        "print(\"Eigenvectors of matrix:\\n\", eigenvectors)\n",
        "print(\"Inverse of matrix:\\n\", inverse_matrix)\n",
        "print(\"Determinant of matrix:\", determinant)"
      ],
      "metadata": {
        "colab": {
          "base_uri": "https://localhost:8080/"
        },
        "id": "Asxfq16FLWcp",
        "outputId": "e30952e5-bcc2-4207-8e45-bb246ffa943d"
      },
      "execution_count": null,
      "outputs": [
        {
          "output_type": "stream",
          "name": "stdout",
          "text": [
            "Sum of diagonal elements: 176\n",
            "Eigenvalues of matrix: [98.16835147 28.097044   49.73460452]\n",
            "Eigenvectors of matrix:\n",
            " [[ 0.4574917   0.34637121 -0.15017693]\n",
            " [ 0.28447814 -0.72784061 -0.4852124 ]\n",
            " [ 0.84248058  0.59184038  0.8614034 ]]\n",
            "Inverse of matrix:\n",
            " [[ 0.02404141 -0.00911212 -0.00444671]\n",
            " [-0.01667882  0.02966905  0.0024785 ]\n",
            " [ 0.00631287 -0.01603732  0.01217379]]\n",
            "Determinant of matrix: 137180.0000000001\n"
          ]
        }
      ]
    },
    {
      "cell_type": "code",
      "source": [
        "import numpy as np\n",
        "x = np.array([[2, 3, 4], [3, 2, 9]])\n",
        "y = np.array([[1, 5, 0], [5, 10, 3]])\n",
        "inner = np.inner(x, y)\n",
        "outer = np.outer(x, y)\n",
        "print(\"Inner product:\\n\", inner)\n",
        "print(\"Outer product:\\n\", outer)"
      ],
      "metadata": {
        "colab": {
          "base_uri": "https://localhost:8080/"
        },
        "id": "8Bpx4LESLyTu",
        "outputId": "e8241f2d-3aba-4c53-d649-e447951d8817"
      },
      "execution_count": null,
      "outputs": [
        {
          "output_type": "stream",
          "name": "stdout",
          "text": [
            "Inner product:\n",
            " [[17 52]\n",
            " [13 62]]\n",
            "Outer product:\n",
            " [[ 2 10  0 10 20  6]\n",
            " [ 3 15  0 15 30  9]\n",
            " [ 4 20  0 20 40 12]\n",
            " [ 3 15  0 15 30  9]\n",
            " [ 2 10  0 10 20  6]\n",
            " [ 9 45  0 45 90 27]]\n"
          ]
        }
      ]
    },
    {
      "cell_type": "code",
      "source": [
        "import numpy as np\n",
        "a = np.array([-1.8, -1.6, -0.5, 0.5,1.6, 1.8, 3.0])\n",
        "floor = np.floor(a)\n",
        "ceiling = np.ceil(a)\n",
        "truncated = np\n",
        "rounded = np.round(a)\n",
        "print(\"Floor values:\", floor)\n",
        "print(\"Ceiling values:\", ceiling)\n",
        "print(\"Rounded values:\", rounded)"
      ],
      "metadata": {
        "colab": {
          "base_uri": "https://localhost:8080/"
        },
        "id": "Xg1Qo6CpMFpf",
        "outputId": "c2403211-08c7-4b8e-c16c-a30789c92586"
      },
      "execution_count": null,
      "outputs": [
        {
          "output_type": "stream",
          "name": "stdout",
          "text": [
            "Floor values: [-2. -2. -1.  0.  1.  1.  3.]\n",
            "Ceiling values: [-1. -1. -0.  1.  2.  2.  3.]\n",
            "Rounded values: [-2. -2. -0.  0.  2.  2.  3.]\n"
          ]
        }
      ]
    },
    {
      "cell_type": "code",
      "source": [
        "import numpy as np\n",
        "\n",
        "array = np.array([[1, -2, 3],[-4, 5, -6]])\n",
        "\n",
        "abs_values = np.abs(array)\n",
        "print(\"Element-wise absolute values:\\n\", abs_values)\n",
        "\n",
        "array = np.array([[1, -2, 3],[-4, 5, -6]])\n",
        "percentile_25 = np.percentile(array, 25)\n",
        "print(\"25th percentile of flattened array:\\n\", percentile_25)\n",
        "\n",
        "percentile_50 = np.percentile(array, 50)\n",
        "print(\"50th percentile of flattened array:\\n\", percentile_50)\n",
        "\n",
        "percentile_75 = np.percentile(array, 75)\n",
        "print(\"75th percentile of flattened array:\\n\", percentile_75)\n",
        "\n",
        "mean = np.mean(array)\n",
        "print(\"Mean of flattened array:\", mean)\n",
        "\n",
        "median = np.median(array)\n",
        "print(\"Median of flattened array:\", median)\n",
        "\n",
        "std_dev = np.std(array)\n",
        "print(\"Standard deviation of flattened array:\", std_dev)\n"
      ],
      "metadata": {
        "colab": {
          "base_uri": "https://localhost:8080/"
        },
        "id": "RcpFr6bgMWa2",
        "outputId": "4a302ecd-2c79-48f2-ff0e-1b2cf974aaec"
      },
      "execution_count": null,
      "outputs": [
        {
          "output_type": "stream",
          "name": "stdout",
          "text": [
            "Element-wise absolute values:\n",
            " [[1 2 3]\n",
            " [4 5 6]]\n",
            "25th percentile of flattened array:\n",
            " -3.5\n",
            "50th percentile of flattened array:\n",
            " -0.5\n",
            "75th percentile of flattened array:\n",
            " 2.5\n",
            "Mean of flattened array: -0.5\n",
            "Median of flattened array: -0.5\n",
            "Standard deviation of flattened array: 3.8622100754188224\n"
          ]
        }
      ]
    },
    {
      "cell_type": "code",
      "source": [
        "import numpy as np\n",
        "\n",
        "array = np.array([10, 52, 62, 16, 16, 54, 453])\n",
        "\n",
        "sorted_array = np.sort(array)\n",
        "\n",
        "sorted_indices = np.argsort(array)\n",
        "\n",
        "four_smallest_elements = np.partition(array, 4)[:4]\n",
        "\n",
        "five_largest_elements = np.partition(array, -5)[-5:]\n",
        "\n",
        "print(\"Sorted array:\", sorted_array)\n",
        "print(\"Indices of sorted array:\", sorted_indices)\n",
        "print(\"4 smallest elements:\", four_smallest_elements)\n",
        "print(\"5 largest elements:\", five_largest_elements)\n"
      ],
      "metadata": {
        "colab": {
          "base_uri": "https://localhost:8080/"
        },
        "id": "h0sgMFWFMvJ3",
        "outputId": "8b359322-3893-49f7-f291-8055674bc0ec"
      },
      "execution_count": null,
      "outputs": [
        {
          "output_type": "stream",
          "name": "stdout",
          "text": [
            "Sorted array: [ 10  16  16  52  54  62 453]\n",
            "Indices of sorted array: [0 3 4 1 5 2 6]\n",
            "4 smallest elements: [16 10 16 52]\n",
            "5 largest elements: [ 16  52  62  54 453]\n"
          ]
        }
      ]
    },
    {
      "cell_type": "code",
      "source": [
        "import numpy as np\n",
        "\n",
        "array = np.array([1.0, 1.2, 2.2, 2.0, 3.0, 2.0])\n",
        "\n",
        "integer_elements = array[array == np.floor(array)]\n",
        "\n",
        "float_elements = array[array != np.floor(array)]\n",
        "\n",
        "print(\"Integer elements only:\", integer_elements)\n",
        "print(\"Float elements only:\", float_elements)"
      ],
      "metadata": {
        "colab": {
          "base_uri": "https://localhost:8080/"
        },
        "id": "7Rag11kVM30K",
        "outputId": "f2e9ae09-315a-4af3-f16a-a42cd04586fc"
      },
      "execution_count": null,
      "outputs": [
        {
          "output_type": "stream",
          "name": "stdout",
          "text": [
            "Integer elements only: [1. 2. 3. 2.]\n",
            "Float elements only: [1.2 2.2]\n"
          ]
        }
      ]
    },
    {
      "cell_type": "code",
      "source": [
        "\n",
        " from PIL import Image\n",
        "def img_to_array(path):\n",
        "    img = Image.open(path)\n",
        "    img_array = np.array(img)\n",
        "    if len(img_array.shape) == 3:\n",
        "        file_name = path.split('/')[-1].split('.')[0] + '_RGB.txt'\n",
        "        np.savetxt(file_name, img_array.reshape(-1, img_array.shape[2]), fmt='%d')\n",
        "        print(f\"RGB image saved as {file_name}\")\n",
        "    else:\n",
        "        file_name = path.split('/')[-1].split('.')[0] + '_Gray.txt'\n",
        "        np.savetxt(file_name, img_array, fmt='%d')\n",
        "        print(f\"Grayscale image saved as {file_name}\")"
      ],
      "metadata": {
        "id": "sSjznQRpNGop"
      },
      "execution_count": null,
      "outputs": []
    }
  ]
}